{
 "cells": [
  {
   "cell_type": "code",
   "execution_count": 2,
   "metadata": {},
   "outputs": [
    {
     "name": "stdout",
     "output_type": "stream",
     "text": [
      "200\n",
      "540\n",
      "TW=130 FW=70\n"
     ]
    }
   ],
   "source": [
    "v = int(input())\n",
    "w = int(input())\n",
    "if (w&1==1)| w < 2 | w <= v:\n",
    "    print(\"invalid input\")\n",
    "else:\n",
    "    x=((4*v) -w)//2\n",
    "    print(\"TW={0} FW={1}\".format(x,v-x))"
   ]
  },
  {
   "cell_type": "code",
   "execution_count": 1,
   "metadata": {},
   "outputs": [
    {
     "name": "stdout",
     "output_type": "stream",
     "text": [
      "5\n",
      "1\n",
      "2\n",
      "3\n",
      "4\n",
      "5\n",
      "5\n"
     ]
    }
   ],
   "source": [
    "import sys\n",
    "n=int(input())\n",
    "c=0\n",
    "m=-sys.maxsize-1\n",
    "while n:\n",
    "    n-=1\n",
    "    a=int(input())\n",
    "    if a>m:\n",
    "        m=a\n",
    "        c+=1\n",
    "print(c)"
   ]
  },
  {
   "cell_type": "markdown",
   "metadata": {},
   "source": [
    "He first turns and travels 10 units of distance\n",
    "His second turn is upward for 20 units\n",
    "Third turn is to the left for 30 units\n",
    "Fourth turn is the downward for 40 units\n",
    "Fifth turn is to the right(again) for 50 units\n",
    "… And thus he travels, every time increasing the travel distance by 10 units."
   ]
  },
  {
   "cell_type": "code",
   "execution_count": 2,
   "metadata": {},
   "outputs": [
    {
     "name": "stdout",
     "output_type": "stream",
     "text": [
      "5\n",
      "20 20\n"
     ]
    }
   ],
   "source": [
    "n = int(input())\n",
    "c = 'r'\n",
    "dis = 10\n",
    "x,y = 0,0\n",
    "for i in range(n):\n",
    "    if c  == 'r':\n",
    "        x = dis + x\n",
    "        c = 'u'\n",
    "        dis = dis+10\n",
    "    elif c == 'u':\n",
    "        y = dis + y\n",
    "        c = 'l'\n",
    "        dis = dis+10\n",
    "    elif c == 'l':\n",
    "        x = dis - x\n",
    "        c = 'd'\n",
    "        dis = dis - x\n",
    "    elif c=='D':\n",
    "        y=y-dis\n",
    "        c='A'\n",
    "        dis=dis+10\n",
    "    elif c=='A':\n",
    "        x=x+dis\n",
    "        c='R'\n",
    "        dis=dis+10\n",
    "print(x,y)\n",
    "        \n",
    "        \n",
    "        "
   ]
  },
  {
   "cell_type": "code",
   "execution_count": 18,
   "metadata": {},
   "outputs": [
    {
     "name": "stdout",
     "output_type": "stream",
     "text": [
      "4\n"
     ]
    }
   ],
   "source": [
    "\"\"\"to point left inseretion for a specific value in a sorted order \"\"\"\n",
    "import bisect \n",
    "def value(a, x):\n",
    "    i = bisect.bisect_left(a, x)\n",
    "    return i\n",
    "a = [1,2,4,5]\n",
    "print(value(a, 6))     "
   ]
  },
  {
   "cell_type": "code",
   "execution_count": 52,
   "metadata": {},
   "outputs": [
    {
     "name": "stdout",
     "output_type": "stream",
     "text": [
      "3\n",
      "2\n",
      "[1, 2, 4, 5]\n",
      "[1, 2, 4, 5, 2]\n",
      "[1, 2, 2, 5, 1]\n",
      "[1, 2, 5, 1]\n",
      "[1, 5, 2, 1]\n",
      "[1, 1, 2, 5]\n",
      "[1]\n",
      "1\n",
      "[1, 2, 5]\n",
      "[1, 2, 6, 5]\n",
      "[1, 2, 3, 1, 2, 6, 5]\n"
     ]
    },
    {
     "data": {
      "text/plain": [
       "[1, 2, 3, 6, 5]"
      ]
     },
     "execution_count": 52,
     "metadata": {},
     "output_type": "execute_result"
    }
   ],
   "source": [
    "import bisect\n",
    "import random\n",
    "def index(a, x):\n",
    "    i = bisect.bisect_left(a, x)\n",
    "    return i\n",
    "    \n",
    "a = [1,2,4,5]\n",
    "print(index(a, 5))\n",
    "print(index(a, 3))\n",
    "print((a))\n",
    "a.append(2)\n",
    "print(a)\n",
    "a[2] = a[4]\n",
    "a[4] = a[0]\n",
    "print(a)\n",
    "a.pop(a[0])\n",
    "print(a)\n",
    "a.reverse()\n",
    "print(a)\n",
    "a.sort()\n",
    "print(a)\n",
    "print(random.choices(a))\n",
    "print(random.choice(a))\n",
    "a.remove(a[0])\n",
    "print(a)\n",
    "a.insert(a[1], 6)\n",
    "print(a)\n",
    "b = [1, 2, 3]\n",
    "c = b + a\n",
    "print(c)\n",
    "list(dict.fromkeys(c))"
   ]
  },
  {
   "cell_type": "code",
   "execution_count": 63,
   "metadata": {},
   "outputs": [],
   "source": [
    "\"\"\" to find day for the given date\"\"\"\n",
    "\n",
    "import datetime\n",
    "import calendar\n",
    " \n",
    "def findDay(date):\n",
    "    born = datetime.datetime.strptime(date, '%d %m %Y').weekday()\n",
    "    return (calendar.day_name[born])\n",
    "def process_date(user_input):\n",
    "    user_input =str(int(input(\"enter date:  \")))\n",
    "    print(\"day on\" +user_input+\" is \" + find_day(date))\n",
    "\n",
    "\n"
   ]
  },
  {
   "cell_type": "code",
   "execution_count": 64,
   "metadata": {},
   "outputs": [
    {
     "ename": "NameError",
     "evalue": "name 'date' is not defined",
     "output_type": "error",
     "traceback": [
      "\u001b[1;31m---------------------------------------------------------------------------\u001b[0m",
      "\u001b[1;31mNameError\u001b[0m                                 Traceback (most recent call last)",
      "\u001b[1;32m<ipython-input-64-9646d96df8e2>\u001b[0m in \u001b[0;36m<module>\u001b[1;34m\u001b[0m\n\u001b[1;32m----> 1\u001b[1;33m \u001b[0mprint\u001b[0m\u001b[1;33m(\u001b[0m\u001b[0mfindDay\u001b[0m\u001b[1;33m(\u001b[0m\u001b[0mdate\u001b[0m\u001b[1;33m)\u001b[0m\u001b[1;33m)\u001b[0m\u001b[1;33m\u001b[0m\u001b[1;33m\u001b[0m\u001b[0m\n\u001b[0m",
      "\u001b[1;31mNameError\u001b[0m: name 'date' is not defined"
     ]
    }
   ],
   "source": [
    "print(findDay(date))"
   ]
  },
  {
   "cell_type": "code",
   "execution_count": null,
   "metadata": {},
   "outputs": [],
   "source": []
  }
 ],
 "metadata": {
  "kernelspec": {
   "display_name": "Python 3",
   "language": "python",
   "name": "python3"
  },
  "language_info": {
   "codemirror_mode": {
    "name": "ipython",
    "version": 3
   },
   "file_extension": ".py",
   "mimetype": "text/x-python",
   "name": "python",
   "nbconvert_exporter": "python",
   "pygments_lexer": "ipython3",
   "version": "3.8.5"
  }
 },
 "nbformat": 4,
 "nbformat_minor": 4
}
